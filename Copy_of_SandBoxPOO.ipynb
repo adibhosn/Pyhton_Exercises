{
  "nbformat": 4,
  "nbformat_minor": 0,
  "metadata": {
    "colab": {
      "provenance": [],
      "authorship_tag": "ABX9TyOPGsZlOM7rdhnVWrJwKTk8",
      "include_colab_link": true
    },
    "kernelspec": {
      "name": "python3",
      "display_name": "Python 3"
    },
    "language_info": {
      "name": "python"
    }
  },
  "cells": [
    {
      "cell_type": "markdown",
      "metadata": {
        "id": "view-in-github",
        "colab_type": "text"
      },
      "source": [
        "<a href=\"https://colab.research.google.com/github/adibhosn/Pyhton_Exercises/blob/main/Copy_of_SandBoxPOO.ipynb\" target=\"_parent\"><img src=\"https://colab.research.google.com/assets/colab-badge.svg\" alt=\"Open In Colab\"/></a>"
      ]
    },
    {
      "cell_type": "code",
      "source": [
        "import pandas as pd"
      ],
      "metadata": {
        "id": "hfRa8JA6350v"
      },
      "execution_count": null,
      "outputs": []
    },
    {
      "cell_type": "code",
      "source": [
        "from statistics import mean"
      ],
      "metadata": {
        "id": "dFY9GAV9-Z8M"
      },
      "execution_count": null,
      "outputs": []
    },
    {
      "cell_type": "code",
      "source": [
        "from abc import ABC, abstractmethod"
      ],
      "metadata": {
        "id": "kuKkwOHzQ9FK"
      },
      "execution_count": null,
      "outputs": []
    },
    {
      "cell_type": "code",
      "execution_count": null,
      "metadata": {
        "id": "PtcqZQnrb8zk",
        "colab": {
          "base_uri": "https://localhost:8080/"
        },
        "outputId": "2611c3a7-7030-4be7-ef69-61a32e429ab4"
      },
      "outputs": [
        {
          "output_type": "stream",
          "name": "stdout",
          "text": [
            "Nome: Pop, Ano: 2020, Cor: Preta, Média de Avaliação: 5.00\n",
            "Nome: Fusca, Ano: 2020, Cor: Preto, Média de Avaliação: 4.50\n"
          ]
        }
      ],
      "source": [
        "from abc import ABC, abstractmethod\n",
        "from statistics import mean\n",
        "\n",
        "class Veiculo(ABC):\n",
        "    def __init__(self, nome: str, ano: int, cor: str):\n",
        "        self._nome = nome\n",
        "        self._ano = ano\n",
        "        self._cor = cor\n",
        "        self._avaliacoes = []  # Atributo privado para armazenar avaliações\n",
        "\n",
        "    @abstractmethod\n",
        "    def avaliar(self, avaliacao: float) -> None:\n",
        "        \"\"\"Avaliar o veículo com uma nota\"\"\"\n",
        "        pass\n",
        "\n",
        "    def media_avaliacao(self) -> str:\n",
        "        \"\"\"Retorna a média de avaliações ou indica que não há avaliações\"\"\"\n",
        "        if not self._avaliacoes:\n",
        "            return 'sem avaliação'\n",
        "        return f'{mean(self._avaliacoes):.2f}'\n",
        "\n",
        "    def adicionar_avaliacao(self, avaliacao: float) -> None:\n",
        "        self._avaliacoes.append(avaliacao)\n",
        "\n",
        "    def __str__(self) -> str:\n",
        "        \"\"\"Representação legível do veículo\"\"\"\n",
        "        return f'Nome: {self._nome}, Ano: {self._ano}, Cor: {self._cor}, Média de Avaliação: {self.media_avaliacao()}'\n",
        "\n",
        "class Carro(Veiculo):\n",
        "    carros = []\n",
        "\n",
        "    def __init__(self, nome: str, ano: int, cor: str, carteiraA: bool):\n",
        "        super().__init__(nome, ano, cor)\n",
        "        self._carteiraA = carteiraA\n",
        "        Carro.carros.append(self)\n",
        "\n",
        "    def avaliar(self, avaliacao: float) -> None:\n",
        "        if 0 < avaliacao <= 5:\n",
        "            self.adicionar_avaliacao(avaliacao)\n",
        "\n",
        "    @staticmethod\n",
        "    def listar_carros() -> None:\n",
        "        for carro in Carro.carros:\n",
        "            print(carro)\n",
        "\n",
        "class Moto(Veiculo):\n",
        "    motos = []\n",
        "\n",
        "    def __init__(self, nome: str, ano: int, cor: str, carteiraB: bool):\n",
        "        super().__init__(nome, ano, cor)\n",
        "        self._carteiraB = carteiraB\n",
        "        Moto.motos.append(self)\n",
        "\n",
        "    def avaliar(self, avaliacao: float) -> None:\n",
        "        if 0 <= avaliacao <= 5:\n",
        "            self.adicionar_avaliacao(avaliacao)\n",
        "\n",
        "    @staticmethod\n",
        "    def listar_motos() -> None:\n",
        "        for moto in Moto.motos:\n",
        "            print(moto)\n",
        "\n",
        "# Testando as alterações\n",
        "pop = Moto('Pop', 2020, 'Preta', True)\n",
        "pop.avaliar(5)\n",
        "pop.avaliar(5)\n",
        "Moto.listar_motos()\n",
        "\n",
        "fusca = Carro('Fusca', 2020, 'Preto', True)\n",
        "fusca.avaliar(4)\n",
        "fusca.avaliar(5)\n",
        "Carro.listar_carros()\n"
      ]
    },
    {
      "cell_type": "code",
      "source": [
        "pop = Moto('pop', 2020, 'preta', True)\n",
        "pop.avaliar(2)\n",
        "pop.avaliar(2)\n",
        "pop.avaliar(2)\n",
        "\n",
        "\n",
        "Moto.retornar_lista()\n",
        "Moto.media_avaliacao()\n",
        "\n",
        "fusca = Carro('fusca', 2020, 'preto', True)\n",
        "fusca.avaliar(5)\n",
        "fusca.avaliar(5)\n",
        "\n",
        "\n",
        "Carro.retornar_lista()\n",
        "Carro.media_avaliacao()"
      ],
      "metadata": {
        "colab": {
          "base_uri": "https://localhost:8080/",
          "height": 88
        },
        "id": "sgoPjrpgVdwp",
        "outputId": "87880a76-c4e9-4314-fd6b-76fa8cbb9588"
      },
      "execution_count": null,
      "outputs": [
        {
          "output_type": "stream",
          "name": "stdout",
          "text": [
            "pop 2020 preta\n",
            "pop 2020 preta\n",
            "pop 2020 preta\n"
          ]
        },
        {
          "output_type": "execute_result",
          "data": {
            "text/plain": [
              "'sem avaliação'"
            ],
            "application/vnd.google.colaboratory.intrinsic+json": {
              "type": "string"
            }
          },
          "metadata": {},
          "execution_count": 17
        }
      ]
    },
    {
      "cell_type": "code",
      "source": [
        "fusca = Carro('fusca', 2020, 'preto', True)\n",
        "fusca.avaliar(5)\n",
        "fusca.avaliar(5)\n",
        "\n",
        "\n",
        "Carro.retornar_lista()\n",
        "Carro.media_avaliacao()"
      ],
      "metadata": {
        "id": "_SkPldTcaKDV"
      },
      "execution_count": null,
      "outputs": []
    },
    {
      "cell_type": "code",
      "source": [
        "from statistics import mean\n",
        "\n",
        "class Veiculo:\n",
        "    carros = []\n",
        "    motos = []\n",
        "    avaliacoes_carros = []\n",
        "    avaliacoes_motos = []\n",
        "\n",
        "    def __init__(self, nome, ano, cor):\n",
        "        self._nome = nome\n",
        "        self._ano = ano\n",
        "        self._cor = cor\n",
        "\n",
        "    def avaliar(self, avaliacao):\n",
        "        if 0 < avaliacao <= 5:\n",
        "            if isinstance(self, Carro):\n",
        "                Carro.avaliacoes_carros.append(avaliacao)\n",
        "            elif isinstance(self, Moto):\n",
        "                Moto.avaliacoes_motos.append(avaliacao)\n",
        "\n",
        "    def media_avaliacao(self):\n",
        "        if isinstance(self, Carro):\n",
        "            if not Carro.avaliacoes_carros:\n",
        "                return 'sem avaliação'\n",
        "            else:\n",
        "                return mean(Carro.avaliacoes_carros)\n",
        "        elif isinstance(self, Moto):\n",
        "            if not Moto.avaliacoes_motos:\n",
        "                return 'sem avaliação'\n",
        "            else:\n",
        "                return mean(Moto.avaliacoes_motos)\n",
        "\n",
        "    @classmethod\n",
        "    def retornar_lista(cls):\n",
        "        if cls == Carro:\n",
        "            print(\"Lista de Carros:\")\n",
        "            for veiculo in cls.carros:\n",
        "                print(veiculo._nome, veiculo._ano, veiculo._cor)\n",
        "        elif cls == Moto:\n",
        "            print(\"Lista de Motos:\")\n",
        "            for veiculo in cls.motos:\n",
        "                print(veiculo._nome, veiculo._ano, veiculo._cor)\n",
        "\n",
        "class Carro(Veiculo):\n",
        "    def __init__(self, nome, ano, cor):\n",
        "        super().__init__(nome, ano, cor)\n",
        "        Carro.carros.append(self)\n",
        "\n",
        "class Moto(Veiculo):\n",
        "    def __init__(self, nome, ano, cor):\n",
        "        super().__init__(nome, ano, cor)\n",
        "        Moto.motos.append(self)\n"
      ],
      "metadata": {
        "id": "5gZ4Dl7B4a2Q"
      },
      "execution_count": null,
      "outputs": []
    },
    {
      "cell_type": "code",
      "source": [
        "class LojaVeiculo():\n",
        "    def __init__(self, nome, endereco):\n",
        "      self.nome = nome\n",
        "      self.endereco = endereco\n",
        "      self.lista_veiculos = []"
      ],
      "metadata": {
        "id": "8_kdoUZQEBur"
      },
      "execution_count": null,
      "outputs": []
    },
    {
      "cell_type": "code",
      "source": [
        "\n",
        "\n",
        "# pop.media_avaliacao()"
      ],
      "metadata": {
        "id": "IDQUkqgq1q_n",
        "colab": {
          "base_uri": "https://localhost:8080/"
        },
        "outputId": "37965cbc-c0af-450c-e6c8-45d81ce529b0"
      },
      "execution_count": null,
      "outputs": [
        {
          "output_type": "stream",
          "name": "stdout",
          "text": [
            "Lista de Motos:\n",
            "pop 2020 preta\n",
            "pop 2020 preta\n",
            "Lista de Carros:\n",
            "fusca 2020 preto\n",
            "fusca 2020 preto\n"
          ]
        },
        {
          "output_type": "execute_result",
          "data": {
            "text/plain": [
              "5"
            ]
          },
          "metadata": {},
          "execution_count": 116
        }
      ]
    },
    {
      "cell_type": "code",
      "source": [
        "# Definindo a classe Carro\n",
        "class Carro:\n",
        "    def __init__(self, nome, ano, cor, blindado):\n",
        "        self.nome = nome\n",
        "        self.ano = ano\n",
        "        self.cor = cor\n",
        "        self.blindado = blindado\n",
        "\n",
        "    # Método __repr__ para representar o objeto Carro de forma legível\n",
        "    def __repr__(self):\n",
        "        return f\"Carro(nome={self.nome}, ano={self.ano}, cor={self.cor}, blindado={self.blindado})\"\n",
        "\n",
        "# Lista para armazenar os carros\n",
        "lista_carros = []\n",
        "# Pedindo a quantidade de carros\n",
        "qntd = int(input('Quantos carros deseja adicionar?'))\n",
        "\n",
        "# Loop para adicionar os carros à lista\n",
        "for i in range(qntd):\n",
        "    nome = input('Qual o nome do carro?')\n",
        "    ano = input('Qual o ano do carro?')\n",
        "    cor = input('Qual a cor do carro?')\n",
        "    blindado = input('O carro está blindado? (Sim/Não)')\n",
        "\n",
        "    # Adicionando o carro criado à lista\n",
        "    lista_carros.append(Carro(nome, ano, cor, blindado))\n",
        "\n",
        "# Exibindo os atributos de cada carro da lista\n",
        "for carro in lista_carros:\n",
        "    print(carro)  # Aqui o método __repr__ será chamado para mostrar os atributos do objeto\n"
      ],
      "metadata": {
        "id": "QrLhf_Sx1qMl",
        "colab": {
          "base_uri": "https://localhost:8080/",
          "height": 375
        },
        "outputId": "6a9cf88f-05b2-4062-f916-8a10af352439"
      },
      "execution_count": null,
      "outputs": [
        {
          "output_type": "error",
          "ename": "KeyboardInterrupt",
          "evalue": "Interrupted by user",
          "traceback": [
            "\u001b[0;31m---------------------------------------------------------------------------\u001b[0m",
            "\u001b[0;31mKeyboardInterrupt\u001b[0m                         Traceback (most recent call last)",
            "\u001b[0;32m<ipython-input-62-57cf4deed09d>\u001b[0m in \u001b[0;36m<cell line: 16>\u001b[0;34m()\u001b[0m\n\u001b[1;32m     14\u001b[0m \u001b[0mlista_carros\u001b[0m \u001b[0;34m=\u001b[0m \u001b[0;34m[\u001b[0m\u001b[0;34m]\u001b[0m\u001b[0;34m\u001b[0m\u001b[0;34m\u001b[0m\u001b[0m\n\u001b[1;32m     15\u001b[0m \u001b[0;31m# Pedindo a quantidade de carros\u001b[0m\u001b[0;34m\u001b[0m\u001b[0;34m\u001b[0m\u001b[0m\n\u001b[0;32m---> 16\u001b[0;31m \u001b[0mqntd\u001b[0m \u001b[0;34m=\u001b[0m \u001b[0mint\u001b[0m\u001b[0;34m(\u001b[0m\u001b[0minput\u001b[0m\u001b[0;34m(\u001b[0m\u001b[0;34m'Quantos carros deseja adicionar?'\u001b[0m\u001b[0;34m)\u001b[0m\u001b[0;34m)\u001b[0m\u001b[0;34m\u001b[0m\u001b[0;34m\u001b[0m\u001b[0m\n\u001b[0m\u001b[1;32m     17\u001b[0m \u001b[0;34m\u001b[0m\u001b[0m\n\u001b[1;32m     18\u001b[0m \u001b[0;31m# Loop para adicionar os carros à lista\u001b[0m\u001b[0;34m\u001b[0m\u001b[0;34m\u001b[0m\u001b[0m\n",
            "\u001b[0;32m/usr/local/lib/python3.10/dist-packages/ipykernel/kernelbase.py\u001b[0m in \u001b[0;36mraw_input\u001b[0;34m(self, prompt)\u001b[0m\n\u001b[1;32m    849\u001b[0m                 \u001b[0;34m\"raw_input was called, but this frontend does not support input requests.\"\u001b[0m\u001b[0;34m\u001b[0m\u001b[0;34m\u001b[0m\u001b[0m\n\u001b[1;32m    850\u001b[0m             )\n\u001b[0;32m--> 851\u001b[0;31m         return self._input_request(str(prompt),\n\u001b[0m\u001b[1;32m    852\u001b[0m             \u001b[0mself\u001b[0m\u001b[0;34m.\u001b[0m\u001b[0m_parent_ident\u001b[0m\u001b[0;34m,\u001b[0m\u001b[0;34m\u001b[0m\u001b[0;34m\u001b[0m\u001b[0m\n\u001b[1;32m    853\u001b[0m             \u001b[0mself\u001b[0m\u001b[0;34m.\u001b[0m\u001b[0m_parent_header\u001b[0m\u001b[0;34m,\u001b[0m\u001b[0;34m\u001b[0m\u001b[0;34m\u001b[0m\u001b[0m\n",
            "\u001b[0;32m/usr/local/lib/python3.10/dist-packages/ipykernel/kernelbase.py\u001b[0m in \u001b[0;36m_input_request\u001b[0;34m(self, prompt, ident, parent, password)\u001b[0m\n\u001b[1;32m    893\u001b[0m             \u001b[0;32mexcept\u001b[0m \u001b[0mKeyboardInterrupt\u001b[0m\u001b[0;34m:\u001b[0m\u001b[0;34m\u001b[0m\u001b[0;34m\u001b[0m\u001b[0m\n\u001b[1;32m    894\u001b[0m                 \u001b[0;31m# re-raise KeyboardInterrupt, to truncate traceback\u001b[0m\u001b[0;34m\u001b[0m\u001b[0;34m\u001b[0m\u001b[0m\n\u001b[0;32m--> 895\u001b[0;31m                 \u001b[0;32mraise\u001b[0m \u001b[0mKeyboardInterrupt\u001b[0m\u001b[0;34m(\u001b[0m\u001b[0;34m\"Interrupted by user\"\u001b[0m\u001b[0;34m)\u001b[0m \u001b[0;32mfrom\u001b[0m \u001b[0;32mNone\u001b[0m\u001b[0;34m\u001b[0m\u001b[0;34m\u001b[0m\u001b[0m\n\u001b[0m\u001b[1;32m    896\u001b[0m             \u001b[0;32mexcept\u001b[0m \u001b[0mException\u001b[0m \u001b[0;32mas\u001b[0m \u001b[0me\u001b[0m\u001b[0;34m:\u001b[0m\u001b[0;34m\u001b[0m\u001b[0;34m\u001b[0m\u001b[0m\n\u001b[1;32m    897\u001b[0m                 \u001b[0mself\u001b[0m\u001b[0;34m.\u001b[0m\u001b[0mlog\u001b[0m\u001b[0;34m.\u001b[0m\u001b[0mwarning\u001b[0m\u001b[0;34m(\u001b[0m\u001b[0;34m\"Invalid Message:\"\u001b[0m\u001b[0;34m,\u001b[0m \u001b[0mexc_info\u001b[0m\u001b[0;34m=\u001b[0m\u001b[0;32mTrue\u001b[0m\u001b[0;34m)\u001b[0m\u001b[0;34m\u001b[0m\u001b[0;34m\u001b[0m\u001b[0m\n",
            "\u001b[0;31mKeyboardInterrupt\u001b[0m: Interrupted by user"
          ]
        }
      ]
    },
    {
      "cell_type": "code",
      "source": [
        "class Restaurante:\n",
        "    restaurantes = []\n",
        "\n",
        "    def __init__(self, nome, categoria):\n",
        "        self.nome = nome\n",
        "        self.categoria = categoria\n",
        "        self.ativo = False\n",
        "        Restaurante.restaurantes.append(self)\n",
        "\n",
        "    def __str__(self):\n",
        "        return f'{self.nome} | {self.categoria}'\n",
        "\n",
        "\n"
      ],
      "metadata": {
        "id": "50ntfNwTmfc9"
      },
      "execution_count": null,
      "outputs": []
    },
    {
      "cell_type": "code",
      "source": [
        "class ContaBancaria:\n",
        "    lista_contas = []\n",
        "    def __init__(self,titular, saldo):\n",
        "        self._titular = titular\n",
        "        self._saldo = saldo\n",
        "        self._ativo = False\n",
        "        ContaBancaria.lista_contas.append(self)\n",
        "\n",
        "    def __str__(self):\n",
        "        return f'{self._titular} | {self._saldo}'\n",
        "\n",
        "    def ativar_conta(self):\n",
        "        self._ativo = True\n",
        "\n",
        "    @property\n",
        "    def saldo(self):\n",
        "        return self._saldo\n",
        "\n",
        "    @classmethod\n",
        "    def retornar_lista(cls):\n",
        "        for conta in cls.lista_contas:\n",
        "            print(conta._titular, conta._saldo)"
      ],
      "metadata": {
        "id": "2f78OgqQfmi3"
      },
      "execution_count": null,
      "outputs": []
    },
    {
      "cell_type": "code",
      "source": [
        "adib = ContaBancaria('adib', 1000)\n",
        "jp = ContaBancaria('jp', 1000)\n",
        "amelie = ContaBancaria('amelie', 1000)\n",
        "\n",
        "adib.ativar_conta()\n",
        "adib.saldo\n",
        "ContaBancaria.retornar_lista()"
      ],
      "metadata": {
        "id": "uWX_Q68Bg3EO"
      },
      "execution_count": null,
      "outputs": []
    },
    {
      "cell_type": "code",
      "source": [
        "b = 20\n",
        "isinstance(b, int)"
      ],
      "metadata": {
        "id": "lWURsd2Ug9__",
        "colab": {
          "base_uri": "https://localhost:8080/"
        },
        "outputId": "c8f3fcbe-dc65-4dff-db05-e99f292401ab"
      },
      "execution_count": null,
      "outputs": [
        {
          "output_type": "execute_result",
          "data": {
            "text/plain": [
              "True"
            ]
          },
          "metadata": {},
          "execution_count": 4
        }
      ]
    },
    {
      "cell_type": "code",
      "source": [],
      "metadata": {
        "id": "XTxeTpLGSfLB"
      },
      "execution_count": null,
      "outputs": []
    }
  ]
}