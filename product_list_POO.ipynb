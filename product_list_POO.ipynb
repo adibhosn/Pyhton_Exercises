{
  "nbformat": 4,
  "nbformat_minor": 0,
  "metadata": {
    "colab": {
      "provenance": [],
      "authorship_tag": "ABX9TyPxFl0HDxaamQT2zyjbJUit",
      "include_colab_link": true
    },
    "kernelspec": {
      "name": "python3",
      "display_name": "Python 3"
    },
    "language_info": {
      "name": "python"
    }
  },
  "cells": [
    {
      "cell_type": "markdown",
      "metadata": {
        "id": "view-in-github",
        "colab_type": "text"
      },
      "source": [
        "<a href=\"https://colab.research.google.com/github/adibhosn/Pyhton_Exercises/blob/main/product_list_POO.ipynb\" target=\"_parent\"><img src=\"https://colab.research.google.com/assets/colab-badge.svg\" alt=\"Open In Colab\"/></a>"
      ]
    },
    {
      "cell_type": "code",
      "source": [
        "# Inicializa a lista de produtos\n",
        "produtos = []\n",
        "\n",
        "# Função para salvar os produtos no arquivo\n",
        "def salvar_produtos():\n",
        "    with open(\"produtos.txt\", \"w\") as arquivo:\n",
        "        for produto in produtos:\n",
        "            arquivo.write(f\"{produto['codigo_produto']},{produto['descricao_produto']},{produto['valor_produto']}\\n\")\n",
        "\n",
        "# Carrega os produtos do arquivo produtos.txt (se existir)\n",
        "try:\n",
        "    with open(\"produtos.txt\", \"r\") as arquivo:\n",
        "        for linha in arquivo:\n",
        "            codigo, descricao, valor = linha.strip().split(',')\n",
        "            produtos.append({\n",
        "                'codigo_produto': codigo,\n",
        "                'descricao_produto': descricao,\n",
        "                'valor_produto': float(valor)\n",
        "            })\n",
        "except FileNotFoundError:\n",
        "    pass\n",
        "\n",
        "while True:\n",
        "    print(\"\\nMenu:\")\n",
        "    print(\"1 - Cadastrar Produto\")\n",
        "    print(\"2 - Consultar Produto\")\n",
        "    print(\"3 - Remover Produto\")\n",
        "    print(\"4 - Listar Produtos\")\n",
        "    print(\"5 - Sair\")\n",
        "\n",
        "    opcao = input(\"Escolha uma opção: \")\n",
        "\n",
        "    if opcao == '1':\n",
        "        codigo = input(\"Digite o código do produto: \")\n",
        "        descricao = input(\"Digite a descrição do produto: \")\n",
        "        valor = float(input(\"Digite o valor do produto: \"))\n",
        "        produtos.append({\n",
        "            'codigo_produto': codigo,\n",
        "            'descricao_produto': descricao,\n",
        "            'valor_produto': valor\n",
        "        })\n",
        "        salvar_produtos()\n",
        "    elif opcao == '2':\n",
        "        codigo = input(\"Digite o código do produto a ser consultado: \")\n",
        "        produto_encontrado = False\n",
        "        for produto in produtos:\n",
        "            if produto['codigo_produto'] == codigo:\n",
        "                print(f\"Produto encontrado - Código: {produto['codigo_produto']}, Descrição: {produto['descricao_produto']}, Valor: {produto['valor_produto']}\")\n",
        "                produto_encontrado = True\n",
        "                break\n",
        "        if not produto_encontrado:\n",
        "            print(\"Produto não encontrado.\")\n",
        "    elif opcao == '3':\n",
        "        codigo = input(\"Digite o código do produto a ser removido: \")\n",
        "        for produto in produtos:\n",
        "            if produto['codigo_produto'] == codigo:\n",
        "                produtos.remove(produto)\n",
        "                salvar_produtos()\n",
        "                print(\"Produto removido com sucesso.\")\n",
        "                break\n",
        "        else:\n",
        "            print(\"Produto não encontrado.\")\n",
        "    elif opcao == '4':\n",
        "        for produto in produtos:\n",
        "            print(f\"Código: {produto['codigo_produto']}, Descrição: {produto['descricao_produto']}, Valor: {produto['valor_produto']}\")\n",
        "    elif opcao == '5':\n",
        "        print(\"Saindo do programa. Produtos salvos em produtos.txt.\")\n",
        "        break\n",
        "    else:\n",
        "        print(\"Opção inválida. Tente novamente.\")"
      ],
      "metadata": {
        "colab": {
          "base_uri": "https://localhost:8080/"
        },
        "id": "wkZldJaah_mT",
        "outputId": "23e8c16f-320a-4c9b-a188-d05fd17164d2"
      },
      "execution_count": null,
      "outputs": [
        {
          "output_type": "stream",
          "name": "stdout",
          "text": [
            "\n",
            "Menu:\n",
            "1 - Cadastrar Produto\n",
            "2 - Consultar Produto\n",
            "3 - Remover Produto\n",
            "4 - Listar Produtos\n",
            "5 - Sair\n"
          ]
        }
      ]
    }
  ]
}